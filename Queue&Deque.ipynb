{
  "nbformat": 4,
  "nbformat_minor": 0,
  "metadata": {
    "colab": {
      "provenance": []
    },
    "kernelspec": {
      "name": "python3",
      "display_name": "Python 3"
    },
    "language_info": {
      "name": "python"
    }
  },
  "cells": [
    {
      "cell_type": "code",
      "execution_count": 2,
      "metadata": {
        "id": "9hZQPHRcCrPR"
      },
      "outputs": [],
      "source": [
        "class Queue:\n",
        "  def __init__(self):\n",
        "    self.items = []\n",
        "\n",
        "  def is_empty(self):\n",
        "    return self.items == []\n",
        "\n",
        "  def enqueue(self,item):\n",
        "    self.item.insert(0, item)\n",
        "\n",
        "  def dequeue(self):\n",
        "    return self.items.pop()\n",
        "\n",
        "  def size(self):\n",
        "    return len(self.items)\n",
        ""
      ]
    },
    {
      "cell_type": "code",
      "source": [
        "def is_palindrome(word):\n",
        "  q = Queue()\n",
        "\n",
        "  for i in range(len(word)):\n",
        "    s.push(word[i])\n",
        "    q.enqueue(word[i])\n",
        "\n",
        "  while (not q.is_empty()) and s.pop() == q.dequeue():\n",
        "    pass\n",
        "\n",
        "  if q.is_empty():\n",
        "    return True\n",
        "  else:\n",
        "    return False"
      ],
      "metadata": {
        "id": "5OdoRlxyC8mH"
      },
      "execution_count": null,
      "outputs": []
    }
  ]
}