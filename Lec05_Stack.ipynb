{
  "nbformat": 4,
  "nbformat_minor": 0,
  "metadata": {
    "colab": {
      "provenance": []
    },
    "kernelspec": {
      "name": "python3",
      "display_name": "Python 3"
    },
    "language_info": {
      "name": "python"
    }
  },
  "cells": [
    {
      "cell_type": "code",
      "execution_count": 1,
      "metadata": {
        "id": "1rMwd7tb3-31",
        "colab": {
          "base_uri": "https://localhost:8080/"
        },
        "outputId": "58c4b710-3f77-4774-9c7a-28f465f19973"
      },
      "outputs": [
        {
          "output_type": "stream",
          "name": "stdout",
          "text": [
            "True\n"
          ]
        }
      ],
      "source": [
        "class Stack:\n",
        "  def __init__(self):\n",
        "    self.items = []\n",
        "\n",
        "  def is_empty(self):\n",
        "    return self.items == []\n",
        "\n",
        "  def push(self, item):\n",
        "    self.items.append(item)\n",
        "\n",
        "  def pop(self):\n",
        "    return self.items.pop()\n",
        "\n",
        "  def peek(self):\n",
        "    return self.items[len(self.items)-1]\n",
        "\n",
        "  def size(self):\n",
        "    return len(self.items)\n",
        "\n",
        "  def pop_all(self):\n",
        "    self.items.clear()\n",
        "\n",
        "s = Stack()\n",
        "print(s.is_empty())"
      ]
    },
    {
      "cell_type": "code",
      "source": [
        "# 괄호의 개수가 잘 맞는지 확인하는 함수\n",
        "def par_checker(symbol_string):\n",
        "    s = Stack()               # 스택 생성\n",
        "    balanced = True           # 괄호 균형 여부 체크 변수\n",
        "    index = 0                 # 문자열을 순회할 인덱스 초기화\n",
        "\n",
        "    # 문자열을 끝까지 보거나, 이미 불균형이면 멈춤\n",
        "    while index < len(symbol_string) and balanced:\n",
        "        symbol = symbol_string[index]   # 현재 문자 추출\n",
        "\n",
        "        if symbol == \"(\":              # 여는 괄호면 스택에 push\n",
        "            s.push(symbol)\n",
        "        else:                          # 닫는 괄호일 때\n",
        "            if s.is_empty():           # 스택이 비어 있으면 -> 잘못된 괄호\n",
        "                balanced = False\n",
        "            else:\n",
        "                s.pop()                # 짝 맞는 여는 괄호 제거\n",
        "\n",
        "        index = index + 1              # 다음 문자로 이동\n",
        "\n",
        "    # 다 돌았을 때도 스택이 비어있어야 완벽히 짝 맞음\n",
        "    if balanced and s.is_empty():\n",
        "        return True\n",
        "    else:\n",
        "        return False\n"
      ],
      "metadata": {
        "id": "a-yG3FmX5Eon"
      },
      "execution_count": 6,
      "outputs": []
    },
    {
      "cell_type": "code",
      "source": [
        "print(par_checker(\"((((()))))\"))"
      ],
      "metadata": {
        "colab": {
          "base_uri": "https://localhost:8080/"
        },
        "id": "efJMLke96O-G",
        "outputId": "390b583e-dd7b-46bd-8900-4006a3533d07"
      },
      "execution_count": 11,
      "outputs": [
        {
          "output_type": "stream",
          "name": "stdout",
          "text": [
            "True\n"
          ]
        }
      ]
    }
  ]
}