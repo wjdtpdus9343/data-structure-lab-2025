{
  "nbformat": 4,
  "nbformat_minor": 0,
  "metadata": {
    "colab": {
      "provenance": []
    },
    "kernelspec": {
      "name": "python3",
      "display_name": "Python 3"
    },
    "language_info": {
      "name": "python"
    }
  },
  "cells": [
    {
      "cell_type": "code",
      "execution_count": 1,
      "metadata": {
        "id": "27BY2lIw-g4L"
      },
      "outputs": [],
      "source": [
        "def insertion_sort(a_list):\n",
        "  for index in range(1, len(a_list)):\n",
        "    current_value = a_list[index]\n",
        "    position = index\n",
        "\n",
        "    while position > 0 and a_list[position - 1] > current_value:\n",
        "      a_list[position] = a_list[position - 1]\n",
        "      position = position - 1\n",
        "\n",
        "    a_list[position] = current_value\n"
      ]
    }
  ]
}