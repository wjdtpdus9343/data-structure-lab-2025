{
  "nbformat": 4,
  "nbformat_minor": 0,
  "metadata": {
    "colab": {
      "provenance": []
    },
    "kernelspec": {
      "name": "python3",
      "display_name": "Python 3"
    },
    "language_info": {
      "name": "python"
    }
  },
  "cells": [
    {
      "cell_type": "code",
      "execution_count": 1,
      "metadata": {
        "id": "VkO9wh9VE5IB"
      },
      "outputs": [],
      "source": [
        "def quick_sort(a_list):\n",
        "  quick_sort_helper(a_list, 0, len(a_list) - 1)\n",
        "\n",
        "def quick_sort_helper(a_list, first, last):\n",
        "  if first < last:\n",
        "\n",
        "    split_point = partition(a_list, first, last)\n",
        "\n",
        "    quick_sort_helper(a_list, first, split_point - 1)\n",
        "    quick_sort_helper(a_list, split_point + 1, last)"
      ]
    }
  ]
}